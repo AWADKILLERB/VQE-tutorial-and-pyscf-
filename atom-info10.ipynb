{
 "cells": [
  {
   "cell_type": "code",
   "execution_count": 1,
   "metadata": {},
   "outputs": [],
   "source": [
    "'''\n",
    "Access molecule geometry.\n",
    "\n",
    "Mole.natm is the total number of atoms.  It is initialized in Mole.build()\n",
    "function.\n",
    "'''\n",
    "\n",
    "from pyscf import gto\n",
    "\n",
    "mol = gto.M(\n",
    "    atom = '''\n",
    "O        0.000000    0.000000    0.117790\n",
    "H        0.000000    0.755453   -0.471161\n",
    "H        0.000000   -0.755453   -0.471161''',\n",
    "    basis = 'ccpvdz',\n",
    ")\n"
   ]
  },
  {
   "cell_type": "code",
   "execution_count": 2,
   "metadata": {},
   "outputs": [
    {
     "name": "stdout",
     "output_type": "stream",
     "text": [
      "O O  charge 8.000000  xyz [0.         0.         0.22259084]\n",
      "H H  charge 1.000000  xyz [ 0.          1.42759927 -0.89036525]\n",
      "H H  charge 1.000000  xyz [ 0.         -1.42759927 -0.89036525]\n",
      "Atomic charges:\n",
      "[8 1 1]\n",
      "Atomic coordinates (Bohr):\n",
      "[[ 0.          0.          0.22259084]\n",
      " [ 0.          1.42759927 -0.89036525]\n",
      " [ 0.         -1.42759927 -0.89036525]]\n",
      "Atomic coordinates (Angstrom):\n",
      "[[ 0.        0.        0.11779 ]\n",
      " [ 0.        0.755453 -0.471161]\n",
      " [ 0.       -0.755453 -0.471161]]\n"
     ]
    }
   ],
   "source": [
    "for i in range(mol.natm):\n",
    "    print('%s %s  charge %f  xyz %s' % (mol.atom_symbol(i),\n",
    "                                        mol.atom_pure_symbol(i),\n",
    "                                        mol.atom_charge(i),\n",
    "                                        mol.atom_coord(i)))\n",
    "\n",
    "print(\"Atomic charges:\")\n",
    "print(mol.atom_charges())\n",
    "print(\"Atomic coordinates (Bohr):\")\n",
    "print(mol.atom_coords())\n",
    "print(\"Atomic coordinates (Angstrom):\")\n",
    "print(mol.atom_coords(unit='Ang'))\n"
   ]
  },
  {
   "cell_type": "code",
   "execution_count": 3,
   "metadata": {},
   "outputs": [],
   "source": [
    "from pyscf import gto\n",
    "\n",
    "'''\n",
    "Access basis information\n",
    "\n",
    "Mole.nbas is the total number of GTO shells.  It is initialized in\n",
    "Mole.build() function.\n",
    "\n",
    ".ao_labels functions can be used to label AO functions.  It has two\n",
    "formats: tuple or string.  The tuple format has four elements:\n",
    "    (atom-id, atom-symbol, angular-momentum, xyz-components)\n",
    "'''\n",
    "\n",
    "mol = gto.M(\n",
    "    atom = '''\n",
    "O        0.000000    0.000000    0.117790\n",
    "H1       0.000000    0.755453   -0.471161\n",
    "H2       0.000000   -0.755453   -0.471161''',\n",
    "    basis = 'ccpvdz',\n",
    ")"
   ]
  },
  {
   "cell_type": "code",
   "execution_count": 4,
   "metadata": {},
   "outputs": [
    {
     "name": "stdout",
     "output_type": "stream",
     "text": [
      "total number of shells 11, total number of AO functions 24\n",
      "(np.int32(0), 'O', '2p', 'z')\n",
      "(np.int32(1), 'H1', '2p', 'z')\n",
      "(np.int32(2), 'H2', '2p', 'z')\n"
     ]
    }
   ],
   "source": [
    "print('total number of shells %d, total number of AO functions %d' %\n",
    "      (mol.nbas, mol.nao_nr()))\n",
    "\n",
    "# Filter AO functions using AO labels, in tuple\n",
    "for label in mol.ao_labels(None):\n",
    "    if label[2] == '2p' and label[3] == 'z':\n",
    "        print(label)\n"
   ]
  },
  {
   "cell_type": "code",
   "execution_count": 5,
   "metadata": {},
   "outputs": [
    {
     "name": "stdout",
     "output_type": "stream",
     "text": [
      "0 O 2pz   \n",
      "1 H1 2pz   \n",
      "2 H2 2pz   \n",
      "shell 0 on atom 0 l = 0 has 2 contracted GTOs\n",
      "shell 1 on atom 0 l = 0 has 1 contracted GTOs\n",
      "shell 2 on atom 0 l = 1 has 1 contracted GTOs\n",
      "shell 3 on atom 0 l = 1 has 1 contracted GTOs\n",
      "shell 4 on atom 0 l = 2 has 1 contracted GTOs\n",
      "shell 5 on atom 1 l = 0 has 1 contracted GTOs\n",
      "shell 6 on atom 1 l = 0 has 1 contracted GTOs\n",
      "shell 7 on atom 1 l = 1 has 1 contracted GTOs\n",
      "shell 8 on atom 2 l = 0 has 1 contracted GTOs\n",
      "shell 9 on atom 2 l = 0 has 1 contracted GTOs\n",
      "shell 10 on atom 2 l = 1 has 1 contracted GTOs\n"
     ]
    }
   ],
   "source": [
    "# Filter AO functions using formated AO labels\n",
    "for label in mol.ao_labels():\n",
    "    if '2pz' in label:\n",
    "        print(label)\n",
    "\n",
    "for i in range(mol.nbas):\n",
    "    print('shell %d on atom %d l = %s has %d contracted GTOs' %\n",
    "          (i, mol.bas_atom(i), mol.bas_angular(i), mol.bas_nctr(i)))\n"
   ]
  },
  {
   "cell_type": "code",
   "execution_count": 6,
   "metadata": {},
   "outputs": [
    {
     "name": "stdout",
     "output_type": "stream",
     "text": [
      "\n",
      "AOs that contains oxygen p orbitals and hydrogen s orbitals\n",
      "3 0 O 2px   \n",
      "4 0 O 2py   \n",
      "5 0 O 2pz   \n",
      "6 0 O 3px   \n",
      "7 0 O 3py   \n",
      "8 0 O 3pz   \n",
      "14 1 H1 1s    \n",
      "15 1 H1 2s    \n",
      "19 2 H2 1s    \n",
      "20 2 H2 2s    \n"
     ]
    }
   ],
   "source": [
    "# mol.search_ao_label is a short-cut function that returns the indices of AOs\n",
    "# wrt the given AO label pattern\n",
    "print('\\nAOs that contains oxygen p orbitals and hydrogen s orbitals')\n",
    "ao_labels = mol.ao_labels()\n",
    "idx = mol.search_ao_label(['O.*p', 'H.*s'])\n",
    "for i in idx:\n",
    "    print(i, ao_labels[i])\n"
   ]
  },
  {
   "cell_type": "code",
   "execution_count": 7,
   "metadata": {},
   "outputs": [],
   "source": [
    "import pickle\n",
    "from pyscf import gto\n",
    "\n",
    "'''\n",
    "Serialize Mole object\n",
    "\n",
    "Mole.pack function transform the Mole object to a Python dict.  It can be\n",
    "serialized using the standard serialization module in python, eg pickle.\n",
    "\n",
    "There is a hacky way to serialize the Mole object for broadcasting or saving.\n",
    "Use format or str function to convert the Mole-python-dict to a string.\n",
    "Later, use the built-in eval function and Mole.unpack function to restore the\n",
    "Mole object.\n",
    "'''\n",
    "\n",
    "mol = gto.M(\n",
    "    atom = '''\n",
    "O        0.000000    0.000000    0.117790\n",
    "H1       0.000000    0.755453   -0.471161\n",
    "H2       0.000000   -0.755453   -0.471161''',\n",
    "    basis = 'ccpvdz',\n",
    ")"
   ]
  },
  {
   "cell_type": "code",
   "execution_count": 8,
   "metadata": {},
   "outputs": [],
   "source": [
    "# In Python pickled format\n",
    "ar = pickle.dumps(format(mol.pack()))\n",
    "mol1 = gto.unpack(eval(pickle.loads(ar)))\n",
    "\n",
    "# In JSON format\n",
    "ar = mol.dumps()\n",
    "mol1 = gto.loads(ar)\n",
    "\n"
   ]
  },
  {
   "cell_type": "code",
   "execution_count": 11,
   "metadata": {},
   "outputs": [
    {
     "name": "stdout",
     "output_type": "stream",
     "text": [
      "Symmetry Coov, subgroup Coov.\n",
      "--\n",
      "\n"
     ]
    }
   ],
   "source": [
    "from pyscf import gto\n",
    "\n",
    "'''\n",
    "Specify symmetry.\n",
    "\n",
    "Mole.symmetry can be True/False to turn on/off the symmetry (default is off),\n",
    "or a string to specify the symmetry of molecule.  symmetry_subgroup keyword\n",
    "can be set to generate a subgroup of the detected symmetry.\n",
    "symmetry_subgroup has no effect when an explicit label is assigned to\n",
    "Mole.symmetry.\n",
    "\n",
    "Symmetry adapted basis are stored in Mole attribute symm_orb.\n",
    "'''\n",
    "\n",
    "mol = gto.M(\n",
    "    atom = 'C 0 .2 0; O 0 0 1.1',\n",
    "    symmetry = True,\n",
    ")\n",
    "print('Symmetry %-4s, subgroup %s.' % (mol.topgroup, mol.groupname))\n",
    "print('--\\n')\n"
   ]
  },
  {
   "cell_type": "code",
   "execution_count": 12,
   "metadata": {},
   "outputs": [
    {
     "name": "stdout",
     "output_type": "stream",
     "text": [
      "Symmetry Coov, subgroup Coov.\n",
      "--\n",
      "\n",
      "Symmetry Coov, subgroup C2v.\n",
      "--\n",
      "\n",
      "Symmetry Coov, subgroup C2v.\n",
      "If \"symmetry=xxx\" is specified, the symmetry for the molecule will be set to xxx\n",
      "--\n",
      "\n",
      "Symmetry adapted orbitals\n",
      "Irrep name A1  (ID 0), symm-adapted-basis shape (10, 6)\n",
      "Irrep name B1  (ID 2), symm-adapted-basis shape (10, 2)\n",
      "Irrep name B2  (ID 3), symm-adapted-basis shape (10, 2)\n"
     ]
    }
   ],
   "source": [
    "print('Symmetry %-4s, subgroup %s.' % (mol.topgroup, mol.groupname))\n",
    "print('--\\n')\n",
    "\n",
    "mol = gto.M(\n",
    "    atom = 'C 0 .2 0; O 0 0 1.1',\n",
    "    symmetry = True,\n",
    "    symmetry_subgroup = 'C2v',\n",
    ")\n",
    "print('Symmetry %-4s, subgroup %s.' % (mol.topgroup, mol.groupname))\n",
    "print('--\\n')\n",
    "\n",
    "mol = gto.M(\n",
    "    atom = 'C 0 0 0; O 0 0 1.5',\n",
    "    symmetry = 'C2v',\n",
    ")\n",
    "print('Symmetry %-4s, subgroup %s.' % (mol.topgroup, mol.groupname))\n",
    "print('If \"symmetry=xxx\" is specified, the symmetry for the molecule will be set to xxx')\n",
    "print('--\\n')\n",
    "\n",
    "print('Symmetry adapted orbitals')\n",
    "for k, ir in enumerate(mol.irrep_name):\n",
    "    print('Irrep name %s  (ID %d), symm-adapted-basis shape %s' %\n",
    "          (ir, mol.irrep_id[k], mol.symm_orb[k].shape))\n"
   ]
  },
  {
   "cell_type": "code",
   "execution_count": null,
   "metadata": {},
   "outputs": [],
   "source": []
  }
 ],
 "metadata": {
  "kernelspec": {
   "display_name": "qiskit_env",
   "language": "python",
   "name": "python3"
  },
  "language_info": {
   "codemirror_mode": {
    "name": "ipython",
    "version": 3
   },
   "file_extension": ".py",
   "mimetype": "text/x-python",
   "name": "python",
   "nbconvert_exporter": "python",
   "pygments_lexer": "ipython3",
   "version": "3.12.3"
  }
 },
 "nbformat": 4,
 "nbformat_minor": 2
}
