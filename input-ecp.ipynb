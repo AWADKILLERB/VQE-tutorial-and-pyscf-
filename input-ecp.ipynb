{
 "cells": [
  {
   "cell_type": "code",
   "execution_count": 1,
   "metadata": {},
   "outputs": [
    {
     "data": {
      "text/plain": [
       "'\\nUse gto.basis.parse_ecp and gto.basis.load_ecp functions to input\\nuser-specified ecp functions.\\n'"
      ]
     },
     "execution_count": 1,
     "metadata": {},
     "output_type": "execute_result"
    }
   ],
   "source": [
    "from pyscf import gto, scf\n",
    "\n",
    "'''\n",
    "Use gto.basis.parse_ecp and gto.basis.load_ecp functions to input\n",
    "user-specified ecp functions.\n",
    "'''\n"
   ]
  },
  {
   "cell_type": "code",
   "execution_count": 2,
   "metadata": {},
   "outputs": [],
   "source": [
    "mol = gto.M(atom='''\n",
    " Na 0. 0. 0.\n",
    " H  0.  0.  1.''',\n",
    "            basis={'Na':'lanl2dz', 'H':'sto3g'},\n",
    "            ecp = {'Na':'lanl2dz'})\n",
    "\n",
    "mol = gto.M(atom='''\n",
    " Na 0. 0. 0.\n",
    " H  0.  0.  1.''',\n",
    "            basis={'Na':'lanl2dz', 'H':'sto3g'},\n",
    "            ecp = {'Na': gto.basis.parse_ecp('''\n",
    "Na nelec 10\n",
    "Na ul\n",
    "0      2.0000000              6.0000000        \n",
    "1    175.5502590            -10.0000000        \n",
    "2      2.3365719             -6.0637782        \n",
    "2      0.7799867             -0.7299393        \n",
    "Na S\n",
    "0    243.3605846              3.0000000        \n",
    "1     41.5764759             36.2847626        \n",
    "2     13.2649167             72.9304880        \n",
    "2      0.9764209              6.0123861        \n",
    "Na P\n",
    "0   1257.2650682              5.0000000        \n",
    "1    189.6248810            117.4495683        \n",
    "2     54.5247759            423.3986704        \n",
    "2      0.9461106              7.1241813        \n",
    "''')})\n"
   ]
  },
  {
   "cell_type": "code",
   "execution_count": 3,
   "metadata": {},
   "outputs": [],
   "source": [
    "#\n",
    "# Simple arithmetic expressions can be specified in ecp input\n",
    "#\n",
    "mol = gto.M(atom='''\n",
    " Na 0. 0. 0.\n",
    " H  0.  0.  1.''',\n",
    "            basis={'Na':'lanl2dz', 'H':'sto3g'},\n",
    "            ecp = {'Na': gto.basis.parse_ecp('''\n",
    "Na nelec 10\n",
    "Na ul\n",
    "0      2.0000000              6.0000000*np.exp(.5)\n",
    "1    175.5502590            -10.0000000*np.exp(.5)\n",
    "2      2.3365719             -6.0637782*np.exp(.5)\n",
    "2      0.7799867             -0.7299393*np.exp(.5)\n",
    "Na S\n",
    "0    243.3605846              3.0000000\n",
    "1     41.5764759             36.2847626\n",
    "2     13.2649167             72.9304880\n",
    "2      0.9764209              6.0123861\n",
    "Na P\n",
    "0   1257.2650682              5.0000000\n",
    "1    189.6248810            117.4495683\n",
    "2     54.5247759            423.3986704\n",
    "2      0.9461106              7.1241813\n",
    "''')})\n"
   ]
  },
  {
   "cell_type": "code",
   "execution_count": 4,
   "metadata": {},
   "outputs": [],
   "source": [
    "#\n",
    "# Burkatzki-Filippi-Dolg pseudo potential and basis are prefixed with \"bfd\"\n",
    "#\n",
    "mol = gto.M(atom='Na 0. 0. 0.; H 0 0 2.',\n",
    "            basis={'Na':'bfd-vtz', 'H':'ccpvdz'},\n",
    "            ecp = {'Na':'bfd-pp'})\n",
    "\n"
   ]
  },
  {
   "cell_type": "code",
   "execution_count": 5,
   "metadata": {},
   "outputs": [],
   "source": [
    "#\n",
    "# Input SOC-ECP parameters\n",
    "# See also relevant introductions in\n",
    "#  https://people.clarkson.edu/~pchristi/reps.html \n",
    "#  http://www.nwchem-sw.org/index.php/ECP\n",
    "#\n",
    "# Note the SOC factor 2/(2l+1) has been multiplied in the SO coefficients\n",
    "#"
   ]
  },
  {
   "cell_type": "code",
   "execution_count": 7,
   "metadata": {},
   "outputs": [],
   "source": [
    "mol = gto.M(atom='Cu 0. 0. 0.; H 0 0 2.',\n",
    "            basis={'Cu':'crenbl', 'H':'ccpvdz'},\n",
    "            ecp = {'Cu': '''\n",
    "#    exp                     AREP coef              SO coef\n",
    "Cu nelec 10\n",
    "Cu ul\n",
    "2     16.30159950            -4.73227501             .063509\n",
    "2     49.98759842           -34.06355667             .272004\n",
    "2    173.02969360           -90.69224548            1.908336\n",
    "1    651.10559082           -10.26460838            1.591675\n",
    "Cu S\n",
    "2      3.70869994           -87.13957977\n",
    "2      4.51280022           209.05120850\n",
    "2      5.53380013          -202.30523682\n",
    "2     10.20059967           154.84190369\n",
    "1      2.66059995             9.21743488\n",
    "0     32.17929840             3.18838096\n",
    "Cu P\n",
    "2      3.69499993           -19.07518959            -.604602\n",
    "2      4.45380020            63.05695343            2.245388\n",
    "2      6.17630005          -127.18070221           -5.454358\n",
    "2      8.83930016           158.41213989            8.174906\n",
    "1     14.67029953            -5.66128206           -1.483716\n",
    "0     30.43350029             5.39882612             .073914\n",
    "'''})\n"
   ]
  },
  {
   "cell_type": "code",
   "execution_count": 8,
   "metadata": {},
   "outputs": [
    {
     "name": "stdout",
     "output_type": "stream",
     "text": [
      "cc-pvdz basis, nbas = 11\n"
     ]
    }
   ],
   "source": [
    "\n",
    "'''\n",
    "Save and load Mole object from/to chkfile\n",
    "'''\n",
    "\n",
    "from pyscf import gto\n",
    "from pyscf import lib\n",
    "\n",
    "mol = gto.M(atom = '''O 0 0 0; H 0 1 0; H 0 0 1''',\n",
    "            basis = 'ccpvdz')\n",
    "print('cc-pvdz basis, nbas = %d' % mol.nbas)\n",
    "\n",
    "#\n",
    "# h2o.chk is in HDF5 format.  The mol object is stored in string format under\n",
    "# key '/mol' \n",
    "#"
   ]
  },
  {
   "cell_type": "code",
   "execution_count": 9,
   "metadata": {},
   "outputs": [
    {
     "name": "stdout",
     "output_type": "stream",
     "text": [
      "mol.basis s STO-3G. nbas = 5\n",
      "After calling update_from_chk, mol.basis becomes cc-pvdz. nbas = 11\n"
     ]
    }
   ],
   "source": [
    "lib.chkfile.save_mol(mol, 'h2o.chk')\n",
    "mol = lib.chkfile.load_mol('h2o.chk')\n",
    "\n",
    "\n",
    "#\n",
    "# mol.update_from_chk read the mol from chkfile and overwrite the mol\n",
    "# attributes\n",
    "#\n",
    "mol = gto.M(atom = '''O 0 0 0; H 0 1 0; H 0 0 1''',\n",
    "            basis = 'sto3g')\n",
    "print('mol.basis s STO-3G. nbas = %d' % mol.nbas)\n",
    "\n",
    "mol.update_from_chk('h2o.chk')\n",
    "print('After calling update_from_chk, mol.basis becomes cc-pvdz. nbas = %d' % mol.nbas)\n",
    "\n"
   ]
  },
  {
   "cell_type": "code",
   "execution_count": 1,
   "metadata": {},
   "outputs": [
    {
     "data": {
      "text/plain": [
       "<pyscf.gto.mole.Mole at 0x7f790a68acc0>"
      ]
     },
     "execution_count": 1,
     "metadata": {},
     "output_type": "execute_result"
    }
   ],
   "source": [
    "\n",
    "'''\n",
    "Input nuclear model\n",
    "'''\n",
    "\n",
    "import numpy\n",
    "from pyscf import gto\n",
    "\n",
    "mol = gto.Mole()\n",
    "mol.atom = [[8,(0, 0, 0)], ['h',(0, 1, 0)], ['H',(0, 0, 1)]]\n",
    "\n",
    "# 0 means point nuclear model (default), 1 or 'G' means Gaussian nuclear model.\n",
    "# nuclear model can be set globally\n",
    "mol.nucmod = 'G'\n",
    "# or specified in a dictionary, like mol.basis\n",
    "mol.nucmod = {'O': 'G'}  # Use Gaussian nuclear model for oxygen\n",
    "\n",
    "mol.build()"
   ]
  },
  {
   "cell_type": "code",
   "execution_count": 2,
   "metadata": {},
   "outputs": [
    {
     "data": {
      "text/plain": [
       "<pyscf.gto.mole.Mole at 0x7f790a68acc0>"
      ]
     },
     "execution_count": 2,
     "metadata": {},
     "output_type": "execute_result"
    }
   ],
   "source": [
    "#\n",
    "# Attribute nucmod can be initialized as a function. The function should\n",
    "# take the nuc_charge as input argument and return the charge distribution\n",
    "# value \"zeta\".\n",
    "#\n",
    "mol.nucmod = {'O': gto.filatov_nuc_mod, 'H': 0}\n",
    "mol.build()\n",
    "\n",
    "#\n",
    "# The default Gaussian nuclear model is Dyall's nuclear model\n",
    "# See L. Visscher and K. Dyall, At. Data Nucl. Data Tables, 67, 207 (1997)\n",
    "# If other gaussian nuclear charge distribution are required,\n",
    "#    rho(r) = nuc_charge * Norm * exp(-zeta * r^2).\n",
    "# You can update the gaussian exponent zeta of particular atoms with\n",
    "# mol.set_nuc_mod function\n",
    "#\n",
    "mol.set_nuc_mod(0, 2.)\n"
   ]
  },
  {
   "cell_type": "code",
   "execution_count": 1,
   "metadata": {},
   "outputs": [],
   "source": [
    "     #\n",
    "# Author: Qiming Sun <osirpt.sun@gmail.com>\n",
    "#\n",
    "\n",
    "'''\n",
    "Apply SCF and post-SCF methods\n",
    "'''\n",
    "\n",
    "from pyscf import gto\n",
    "\n",
    "mol = gto.M(atom='H 0 0 0; F 0 0 1.1', basis='ccpvdz')\n",
    "\n",
    "#\n",
    "# After initializing the molecular object, call .apply method to run SCF or\n",
    "# post-SCF calculations\n",
    "#"
   ]
  },
  {
   "cell_type": "code",
   "execution_count": 2,
   "metadata": {},
   "outputs": [
    {
     "name": "stdout",
     "output_type": "stream",
     "text": [
      "converged SCF energy = -99.9873974403488\n",
      "converged SCF energy = -99.9873974403488\n"
     ]
    },
    {
     "name": "stderr",
     "output_type": "stream",
     "text": [
      "<class 'pyscf.cc.ccsd.CCSD'> does not have attributes  converged\n"
     ]
    },
    {
     "name": "stdout",
     "output_type": "stream",
     "text": [
      "E(CCSD) = -100.203735067179  E_corr = -0.216337626830176\n",
      "converged SCF energy = -99.9873974403488\n",
      "TD-SCF states [0, 3] not converged.\n",
      "Excited State energies (eV)\n",
      "[ 9.20986506  9.20986585 13.62834804 24.09608858 24.0960907 ]\n",
      "converged SCF energy = -99.9873974403489\n",
      "converged SCF energy = -99.987397440349\n",
      "E(CCSD) = -100.1458584691831  E_corr = -0.1584610288341313\n",
      "converged SCF energy = -99.9873974403489\n",
      "TD-SCF states [0, 3] not converged.\n",
      "Excited State energies (eV)\n",
      "[ 9.20986506  9.20986585 13.62834804 24.09608858 24.0960907 ]\n"
     ]
    }
   ],
   "source": [
    "mf = mol.apply('RHF').run()\n",
    "ccobj = mol.apply('CCSD').run()\n",
    "tdobj = mol.apply('TDHF').run(nstates=5)\n",
    "\n",
    "\n",
    "# Or fist load all pyscf modules (see more examples 1-advanced/002-input_script.py)\n",
    "\n",
    "from pyscf import __all__\n",
    "\n",
    "# then apply post-SCF methods\n",
    "\n",
    "mf = mol.RHF().run()\n",
    "ccobj = mol.CCSD(frozen=2).run()\n",
    "tdobj = mol.TDHF().run(nstates=5)\n",
    "\n"
   ]
  },
  {
   "cell_type": "code",
   "execution_count": null,
   "metadata": {},
   "outputs": [],
   "source": []
  }
 ],
 "metadata": {
  "kernelspec": {
   "display_name": "qiskit_env",
   "language": "python",
   "name": "python3"
  },
  "language_info": {
   "codemirror_mode": {
    "name": "ipython",
    "version": 3
   },
   "file_extension": ".py",
   "mimetype": "text/x-python",
   "name": "python",
   "nbconvert_exporter": "python",
   "pygments_lexer": "ipython3",
   "version": "3.12.3"
  }
 },
 "nbformat": 4,
 "nbformat_minor": 2
}
