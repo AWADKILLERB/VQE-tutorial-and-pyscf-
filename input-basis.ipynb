{
 "cells": [
  {
   "cell_type": "code",
   "execution_count": 4,
   "metadata": {},
   "outputs": [
    {
     "data": {
      "text/plain": [
       "'\\nThis example covers different ways to input basis\\n1. A universal basis set for all elements.\\n2. Different basis for different elements.\\n3. Different basis for same elements (different atoms).\\n4. Default basis for all elements, except the given basis of specific element.\\n5. gto.basis.parse and gto.basis.load functions to input user-specified basis.\\n6. Reading the basis set from a given file.\\n7. Uncontracted basis with prefix \"unc-\".\\n8. Basis truncation and a subset of a basis set with notation \"@\".\\n9. Even tempered gaussian basis.\\n10. Combining multiple basis sets into one basis set.\\n11. Internal format (not recommended)\\n'"
      ]
     },
     "execution_count": 4,
     "metadata": {},
     "output_type": "execute_result"
    }
   ],
   "source": [
    "'''\n",
    "This example covers different ways to input basis\n",
    "1. A universal basis set for all elements.\n",
    "2. Different basis for different elements.\n",
    "3. Different basis for same elements (different atoms).\n",
    "4. Default basis for all elements, except the given basis of specific element.\n",
    "5. gto.basis.parse and gto.basis.load functions to input user-specified basis.\n",
    "6. Reading the basis set from a given file.\n",
    "7. Uncontracted basis with prefix \"unc-\".\n",
    "8. Basis truncation and a subset of a basis set with notation \"@\".\n",
    "9. Even tempered gaussian basis.\n",
    "10. Combining multiple basis sets into one basis set.\n",
    "11. Internal format (not recommended)\n",
    "'''"
   ]
  },
  {
   "cell_type": "code",
   "execution_count": 5,
   "metadata": {},
   "outputs": [],
   "source": [
    "import os\n",
    "import numpy\n",
    "from pyscf import gto\n"
   ]
  },
  {
   "cell_type": "code",
   "execution_count": 6,
   "metadata": {},
   "outputs": [
    {
     "ename": "NameError",
     "evalue": "name '__file__' is not defined",
     "output_type": "error",
     "traceback": [
      "\u001b[0;31m---------------------------------------------------------------------------\u001b[0m",
      "\u001b[0;31mNameError\u001b[0m                                 Traceback (most recent call last)",
      "Cell \u001b[0;32mIn[6], line 1\u001b[0m\n\u001b[0;32m----> 1\u001b[0m dirnow \u001b[38;5;241m=\u001b[39m os\u001b[38;5;241m.\u001b[39mpath\u001b[38;5;241m.\u001b[39mrealpath(os\u001b[38;5;241m.\u001b[39mpath\u001b[38;5;241m.\u001b[39mjoin(\u001b[38;5;18;43m__file__\u001b[39;49m, \u001b[38;5;124m'\u001b[39m\u001b[38;5;124m..\u001b[39m\u001b[38;5;124m'\u001b[39m))\n\u001b[1;32m      2\u001b[0m basis_file_from_user \u001b[38;5;241m=\u001b[39m os\u001b[38;5;241m.\u001b[39mpath\u001b[38;5;241m.\u001b[39mjoin(dirnow, \u001b[38;5;124m'\u001b[39m\u001b[38;5;124mh_sto3g.dat\u001b[39m\u001b[38;5;124m'\u001b[39m)\n",
      "\u001b[0;31mNameError\u001b[0m: name '__file__' is not defined"
     ]
    }
   ],
   "source": [
    "dirnow = os.path.realpath(os.path.join(__file__, '..'))\n",
    "basis_file_from_user = os.path.join(dirnow, 'h_sto3g.dat')\n"
   ]
  },
  {
   "cell_type": "code",
   "execution_count": 7,
   "metadata": {},
   "outputs": [],
   "source": [
    "#\n",
    "# Simplest input, one basis set for all atoms.\n",
    "#\n",
    "mol = gto.M(atom = '''O 0 0 0; H 0 1 0; H 0 0 1''',\n",
    "            basis = 'ccpvdz')"
   ]
  },
  {
   "cell_type": "code",
   "execution_count": 8,
   "metadata": {},
   "outputs": [],
   "source": [
    "#\n",
    "# Different basis for different elements.\n",
    "# The attribute mol.basis needs to be initialized as a dict in which the\n",
    "# key is element and the value is the basis set.\n",
    "#\n",
    "# You can use atomic symbol (case-insensitive), the atomic nuclear charge,\n",
    "# as the key of the mol.basis dict.\n",
    "#\n",
    "mol = gto.M(atom = '''O 0 0 0; 1 0 1 0; H 0 0 1''',\n",
    "            basis = {8: 'ccpvdz', 'h': 'sto3g'})\n"
   ]
  },
  {
   "cell_type": "code",
   "execution_count": 9,
   "metadata": {},
   "outputs": [],
   "source": [
    "#\n",
    "# Different basis for same type of elements (different atoms).\n",
    "# Tag the atoms with special characters 1234567890~!@#$%^&*()_+.?:<>[]{}|  to\n",
    "# distinguish different atoms.  If the basis set of tagged atom is not\n",
    "# specified in the basis dict, the default basis will be taken.\n",
    "# In the following input, sto3g basis will be assigned to H:1, 631g basis will\n",
    "# be assigned to H@2\n",
    "#\n",
    "mol = gto.M(atom = '''O 0 0 0; H:1 0 1 0; H@2 0 0 1''',\n",
    "            basis = {'O': 'ccpvdz', 'H:1': 'sto3g', 'H': '631g'})\n",
    "\n",
    "#\n",
    "# Set a default basis set for all elements.  If a specific basis is assigned to\n",
    "# an element, the basis will be used for the specific element.\n",
    "#"
   ]
  },
  {
   "cell_type": "code",
   "execution_count": 10,
   "metadata": {},
   "outputs": [],
   "source": [
    "mol = gto.M(\n",
    "    atom = '''O 0 0 0; H1 0 1 0; H2 0 0 1''',\n",
    "    basis = {'default': '6-31g', 'H2': 'sto3g'}\n",
    ")\n"
   ]
  },
  {
   "cell_type": "code",
   "execution_count": 11,
   "metadata": {},
   "outputs": [
    {
     "ename": "NameError",
     "evalue": "name 'basis_file_from_user' is not defined",
     "output_type": "error",
     "traceback": [
      "\u001b[0;31m---------------------------------------------------------------------------\u001b[0m",
      "\u001b[0;31mNameError\u001b[0m                                 Traceback (most recent call last)",
      "Cell \u001b[0;32mIn[11], line 19\u001b[0m\n\u001b[1;32m      1\u001b[0m \u001b[38;5;66;03m#\u001b[39;00m\n\u001b[1;32m      2\u001b[0m \u001b[38;5;66;03m# Use gto.basis.parse and gto.basis.load functions to input basis\u001b[39;00m\n\u001b[1;32m      3\u001b[0m \u001b[38;5;66;03m#\u001b[39;00m\n\u001b[1;32m      4\u001b[0m mol \u001b[38;5;241m=\u001b[39m gto\u001b[38;5;241m.\u001b[39mM(\n\u001b[1;32m      5\u001b[0m     atom \u001b[38;5;241m=\u001b[39m \u001b[38;5;124m'''\u001b[39m\u001b[38;5;124mO 0 0 0; H1 0 1 0; H2 0 0 1\u001b[39m\u001b[38;5;124m'''\u001b[39m,\n\u001b[1;32m      6\u001b[0m     basis \u001b[38;5;241m=\u001b[39m {\u001b[38;5;124m'\u001b[39m\u001b[38;5;124mO\u001b[39m\u001b[38;5;124m'\u001b[39m: gto\u001b[38;5;241m.\u001b[39mparse(\u001b[38;5;124m'''\u001b[39m\n\u001b[1;32m      7\u001b[0m \u001b[38;5;124m# Parse NWChem format basis string (see https://www.basissetexchange.org/).\u001b[39m\n\u001b[1;32m      8\u001b[0m \u001b[38;5;124m# Comment lines are ignored\u001b[39m\n\u001b[1;32m      9\u001b[0m \u001b[38;5;124m#BASIS SET: (6s,3p) -> [2s,1p]\u001b[39m\n\u001b[1;32m     10\u001b[0m \u001b[38;5;124mO    S\u001b[39m\n\u001b[1;32m     11\u001b[0m \u001b[38;5;124m    130.7093200              0.15432897\u001b[39m\n\u001b[1;32m     12\u001b[0m \u001b[38;5;124m     23.8088610              0.53532814\u001b[39m\n\u001b[1;32m     13\u001b[0m \u001b[38;5;124m      6.4436083              0.44463454\u001b[39m\n\u001b[1;32m     14\u001b[0m \u001b[38;5;124mO    SP\u001b[39m\n\u001b[1;32m     15\u001b[0m \u001b[38;5;124m      5.0331513             -0.09996723             0.15591627\u001b[39m\n\u001b[1;32m     16\u001b[0m \u001b[38;5;124m      1.1695961              0.39951283             0.60768372\u001b[39m\n\u001b[1;32m     17\u001b[0m \u001b[38;5;124m      0.3803890              0.70011547             0.39195739\u001b[39m\n\u001b[1;32m     18\u001b[0m \u001b[38;5;124m                                \u001b[39m\u001b[38;5;124m'''\u001b[39m),\n\u001b[0;32m---> 19\u001b[0m              \u001b[38;5;124m'\u001b[39m\u001b[38;5;124mH1\u001b[39m\u001b[38;5;124m'\u001b[39m: \u001b[43mbasis_file_from_user\u001b[49m,\n\u001b[1;32m     20\u001b[0m              \u001b[38;5;124m'\u001b[39m\u001b[38;5;124mH2\u001b[39m\u001b[38;5;124m'\u001b[39m: gto\u001b[38;5;241m.\u001b[39mload(\u001b[38;5;124m'\u001b[39m\u001b[38;5;124msto-3g\u001b[39m\u001b[38;5;124m'\u001b[39m, \u001b[38;5;124m'\u001b[39m\u001b[38;5;124mHe\u001b[39m\u001b[38;5;124m'\u001b[39m)  \u001b[38;5;66;03m# or use basis of another atom\u001b[39;00m\n\u001b[1;32m     21\u001b[0m             }\n\u001b[1;32m     22\u001b[0m )\n",
      "\u001b[0;31mNameError\u001b[0m: name 'basis_file_from_user' is not defined"
     ]
    }
   ],
   "source": [
    "#\n",
    "# Use gto.basis.parse and gto.basis.load functions to input basis\n",
    "#\n",
    "mol = gto.M(\n",
    "    atom = '''O 0 0 0; H1 0 1 0; H2 0 0 1''',\n",
    "    basis = {'O': gto.parse('''\n",
    "# Parse NWChem format basis string (see https://www.basissetexchange.org/).\n",
    "# Comment lines are ignored\n",
    "#BASIS SET: (6s,3p) -> [2s,1p]\n",
    "O    S\n",
    "    130.7093200              0.15432897\n",
    "     23.8088610              0.53532814\n",
    "      6.4436083              0.44463454\n",
    "O    SP\n",
    "      5.0331513             -0.09996723             0.15591627\n",
    "      1.1695961              0.39951283             0.60768372\n",
    "      0.3803890              0.70011547             0.39195739\n",
    "                                '''),\n",
    "             'H1': basis_file_from_user,\n",
    "             'H2': gto.load('sto-3g', 'He')  # or use basis of another atom\n",
    "            }\n",
    ")"
   ]
  },
  {
   "cell_type": "code",
   "execution_count": 12,
   "metadata": {},
   "outputs": [],
   "source": [
    "mol = gto.M(\n",
    "    atom = '''O 0 0 0; H1 0 1 0; H2 0 0 1''',\n",
    "    basis = {'O': 'unc-ccpvdz', # prefix \"unc-\" will uncontract the ccpvdz basis.\n",
    "                                # It is equivalent to assigning\n",
    "                                #   'O': gto.uncontract(gto.load('ccpvdz', 'O')),\n",
    "             'H': 'ccpvdz'  # H1 H2 will use the same basis ccpvdz\n",
    "            }\n",
    ")\n"
   ]
  },
  {
   "cell_type": "code",
   "execution_count": 13,
   "metadata": {},
   "outputs": [],
   "source": [
    "#\n",
    "# Basis truncation, basis subset with notation \"@\"\n",
    "#\n",
    "mol = gto.M(\n",
    "    atom = '''O 0 0 0; H1 0 1 0; H2 0 0 1''',\n",
    "    basis = {'O': 'ano@3s2p',  # Truncate the ANO basis and keep only 9\n",
    "                               # functions (3s, 2p) for O atom.\n",
    "             'H': 'ccpvdz@1s'  # One s function from cc-pVDZ basis\n",
    "            }\n",
    ")"
   ]
  },
  {
   "cell_type": "code",
   "execution_count": 14,
   "metadata": {},
   "outputs": [],
   "source": [
    "#\n",
    "# Even tempered gaussian basis\n",
    "#\n",
    "mol = gto.M(\n",
    "    atom = '''O 0 0 0; H1 0 1 0; H2 0 0 1''',\n",
    "    basis = {'H': 'sto3g',\n",
    "# even-temper gaussians alpha*beta^i, where i = 0,..,n\n",
    "#                                  (l, n, alpha, beta)\n",
    "             'O': gto.etbs([(0, 4, 1.5, 2.2),  # s-function\n",
    "                            (1, 2, 0.5, 2.2)]) # p-function\n",
    "            }\n",
    ")"
   ]
  },
  {
   "cell_type": "code",
   "execution_count": 15,
   "metadata": {},
   "outputs": [],
   "source": [
    "#\n",
    "# Internal format (not recommended). See also\n",
    "# pyscf/gto/basis/dzp_dunning.py  as an example of internal format\n",
    "#\n",
    "# basis = {atom_type1:[[angular_momentum\n",
    "#                       (GTO-exp1, contract-coeff11, contract-coeff12),\n",
    "#                       (GTO-exp2, contract-coeff21, contract-coeff22),\n",
    "#                       (GTO-exp3, contract-coeff31, contract-coeff32),\n",
    "#                       ...],\n",
    "#                      [angular_momentum\n",
    "#                       (GTO-exp1, contract-coeff11, contract-coeff12),\n",
    "#                       ...],\n",
    "#                      ...],\n",
    "#          atom_type2:[[angular_momentum, (...),],\n",
    "#                      ...],\n",
    "#"
   ]
  },
  {
   "cell_type": "code",
   "execution_count": 16,
   "metadata": {},
   "outputs": [
    {
     "name": "stderr",
     "output_type": "stream",
     "text": [
      "Warning: Basis not found for atom 0 O\n"
     ]
    },
    {
     "data": {
      "text/plain": [
       "<pyscf.gto.mole.Mole at 0x7fb47b1c0440>"
      ]
     },
     "execution_count": 16,
     "metadata": {},
     "output_type": "execute_result"
    }
   ],
   "source": [
    "mol.basis = {'H': [[0,\n",
    "                    (19.2406000, 0.0328280),\n",
    "                    (2.8992000, 0.2312080),\n",
    "                    (0.6534000, 0.8172380),],\n",
    "                   [0,\n",
    "                    (0.1776000, 1.0000000),],\n",
    "                   [1,\n",
    "                    (1.0000000, 1.0000000),]],\n",
    "}\n",
    "mol.build()  # You should see a warning message here since basis set for O is not specified\n"
   ]
  },
  {
   "cell_type": "code",
   "execution_count": 17,
   "metadata": {},
   "outputs": [
    {
     "data": {
      "text/plain": [
       "<pyscf.gto.mole.Mole at 0x7fb47b1c0440>"
      ]
     },
     "execution_count": 17,
     "metadata": {},
     "output_type": "execute_result"
    }
   ],
   "source": [
    "#\n",
    "# Functions gto.basis.load and gto.basis.parse  convert the input to the\n",
    "# internal format\n",
    "#\n",
    "mol.basis = {'H': gto.basis.load('sto3g', 'H'),\n",
    "             'O': gto.basis.parse('''\n",
    "C    S\n",
    "     71.6168370              0.15432897\n",
    "     13.0450960              0.53532814\n",
    "      3.5305122              0.44463454\n",
    "C    SP\n",
    "      2.9412494             -0.09996723             0.15591627\n",
    "      0.6834831              0.39951283             0.60768372\n",
    "      0.2222899              0.70011547             0.39195739\n",
    "''')}\n",
    "mol.build()"
   ]
  },
  {
   "cell_type": "code",
   "execution_count": 18,
   "metadata": {},
   "outputs": [],
   "source": [
    "#\n",
    "# If a string of basis set was input, basis parser can make a guess and call\n",
    "# gto.basis.parse automatically.  The following basis input is equivalent to\n",
    "# the one above.\n",
    "#"
   ]
  },
  {
   "cell_type": "code",
   "execution_count": 19,
   "metadata": {},
   "outputs": [
    {
     "data": {
      "text/plain": [
       "<pyscf.gto.mole.Mole at 0x7fb47b1c0440>"
      ]
     },
     "execution_count": 19,
     "metadata": {},
     "output_type": "execute_result"
    }
   ],
   "source": [
    "mol.basis = {'H': gto.basis.load('sto3g', 'H'),\n",
    "             'O': '''\n",
    "C    S\n",
    "     71.6168370              0.15432897\n",
    "     13.0450960              0.53532814\n",
    "      3.5305122              0.44463454\n",
    "C    SP\n",
    "      2.9412494             -0.09996723             0.15591627\n",
    "      0.6834831              0.39951283             0.60768372\n",
    "      0.2222899              0.70011547             0.39195739\n",
    "'''}\n",
    "mol.build()"
   ]
  },
  {
   "cell_type": "code",
   "execution_count": 20,
   "metadata": {},
   "outputs": [
    {
     "data": {
      "text/plain": [
       "<pyscf.gto.mole.Mole at 0x7fb47b1c0440>"
      ]
     },
     "execution_count": 20,
     "metadata": {},
     "output_type": "execute_result"
    }
   ],
   "source": [
    "# Note the rule to de-contract basis also works here: If the basis string is\n",
    "# prefixed with unc, the basis set will be uncontracted.\n",
    "mol.basis = {'H': gto.basis.load('sto3g', 'H'),\n",
    "             'O': '''unc\n",
    "C    S\n",
    "     71.6168370              0.15432897\n",
    "     13.0450960              0.53532814\n",
    "      3.5305122              0.44463454\n",
    "C    SP\n",
    "      2.9412494             -0.09996723             0.15591627\n",
    "      0.6834831              0.39951283             0.60768372\n",
    "      0.2222899              0.70011547             0.39195739\n",
    "'''}\n",
    "mol.build()"
   ]
  },
  {
   "cell_type": "code",
   "execution_count": 21,
   "metadata": {},
   "outputs": [],
   "source": [
    "#\n",
    "# Simple arithmetic expressions can be specified in basis input\n",
    "#\n",
    "mol = gto.M(\n",
    "    atom = '''O 0 0 0; H1 0 1 0; H2 0 0 1''',\n",
    "    basis = {'O': '''\n",
    "O    S\n",
    "    130.7093200*np.exp(.5)              0.15432897\n",
    "     23.8088610*np.exp(.5)              0.53532814\n",
    "      6.4436083*np.exp(.5)              0.44463454\n",
    "O    SP\n",
    "      5.0331513*2**.5          -0.09996723             0.15591627\n",
    "      1.1695961*2**.5           0.39951283             0.60768372\n",
    "      0.3803890*2**.5           0.70011547             0.39195739''',\n",
    "             'H': 'sto3g',\n",
    "            }\n",
    ")\n"
   ]
  },
  {
   "cell_type": "code",
   "execution_count": 22,
   "metadata": {},
   "outputs": [
    {
     "name": "stdout",
     "output_type": "stream",
     "text": [
      "nao =  77\n"
     ]
    }
   ],
   "source": [
    "#\n",
    "# Multiple basis set can be combined and used as a union basis set\n",
    "#\n",
    "mol = gto.M(\n",
    "    atom = '''O 0 0 0; H1 0 1 0; H2 0 0 1''',\n",
    "    basis = ('sto3g', 'ccpvdz', '3-21g',\n",
    "             gto.etbs([(0, 4, 1.5, 2.2), (1, 2, 0.5, 2.2)]),\n",
    "            [[0, numpy.array([1e3, 1.])]])\n",
    ")\n",
    "print('nao = ', mol.nao_nr())\n",
    "\n",
    "#"
   ]
  },
  {
   "cell_type": "code",
   "execution_count": 23,
   "metadata": {},
   "outputs": [
    {
     "name": "stdout",
     "output_type": "stream",
     "text": [
      "num primitive GTOs =  28\n"
     ]
    }
   ],
   "source": [
    "#\n",
    "# Optimize the basis contraction.  When optimize=True is specified in the\n",
    "# parse function, the segment contracted basis can be restructured to\n",
    "# general contracted basis.  This can improve integral performance.\n",
    "#\n",
    "mol = gto.M(\n",
    "    atom = '''O 0 0 0; H 0 1 0; H 0 0 1''',\n",
    "    basis = {'O': '631g',\n",
    "             'H': gto.basis.parse('''\n",
    "H    S\n",
    "      2.9412494             -0.09996723\n",
    "      0.6834831              0.39951283\n",
    "      0.2222899              0.70011547\n",
    "H    S\n",
    "      2.9412494             0.15591627\n",
    "      0.6834831             0.60768372\n",
    "      0.2222899             0.39195739\n",
    "''', optimize=True)}\n",
    ")\n",
    "print('num primitive GTOs = ', mol.npgto_nr())\n"
   ]
  },
  {
   "cell_type": "code",
   "execution_count": null,
   "metadata": {},
   "outputs": [],
   "source": []
  }
 ],
 "metadata": {
  "kernelspec": {
   "display_name": "qiskit_env",
   "language": "python",
   "name": "python3"
  },
  "language_info": {
   "codemirror_mode": {
    "name": "ipython",
    "version": 3
   },
   "file_extension": ".py",
   "mimetype": "text/x-python",
   "name": "python",
   "nbconvert_exporter": "python",
   "pygments_lexer": "ipython3",
   "version": "3.12.3"
  }
 },
 "nbformat": 4,
 "nbformat_minor": 2
}
