{
 "cells": [
  {
   "cell_type": "code",
   "execution_count": 2,
   "metadata": {},
   "outputs": [],
   "source": [
    "from pyscf import gto\n"
   ]
  },
  {
   "cell_type": "code",
   "execution_count": 3,
   "metadata": {},
   "outputs": [
    {
     "data": {
      "text/plain": [
       "'\\nInitialize a molecular system.\\n\\nThere are many methods to define/initialize a molecule.  This example presents\\nthree methods to create/initialize the molecular object.  Mole object is a\\nPython object.  You can initialize the Mole object using any methods supported\\nby Python.\\n\\nSee also\\n\\npyscf/examples/pbc/06-load_mol_from_chkfile.py  to initialize mol from chkfile\\n\\npyscf/examples/pbc/00-input_cell.py  for initialization of crystal\\n\\n'"
      ]
     },
     "execution_count": 3,
     "metadata": {},
     "output_type": "execute_result"
    }
   ],
   "source": [
    "'''\n",
    "Initialize a molecular system.\n",
    "\n",
    "There are many methods to define/initialize a molecule.  This example presents\n",
    "three methods to create/initialize the molecular object.  Mole object is a\n",
    "Python object.  You can initialize the Mole object using any methods supported\n",
    "by Python.\n",
    "\n",
    "See also\n",
    "\n",
    "pyscf/examples/pbc/06-load_mol_from_chkfile.py  to initialize mol from chkfile\n",
    "\n",
    "pyscf/examples/pbc/00-input_cell.py  for initialization of crystal\n",
    "\n",
    "'''\n"
   ]
  },
  {
   "cell_type": "code",
   "execution_count": 4,
   "metadata": {},
   "outputs": [],
   "source": [
    "#\n",
    "# First method is to assign the geometry, basis etc. to Mole object, then\n",
    "# call build() function to initialize the molecule\n",
    "#"
   ]
  },
  {
   "cell_type": "code",
   "execution_count": 5,
   "metadata": {},
   "outputs": [
    {
     "data": {
      "text/plain": [
       "<pyscf.gto.mole.Mole at 0x7f4d4d28cf50>"
      ]
     },
     "execution_count": 5,
     "metadata": {},
     "output_type": "execute_result"
    }
   ],
   "source": [
    "mol = gto.Mole()\n",
    "mol.atom = '''O 0 0 0; H  0 1 0; H 0 0 1'''\n",
    "mol.basis = 'sto-3g'\n",
    "mol.build()"
   ]
  },
  {
   "cell_type": "code",
   "execution_count": 6,
   "metadata": {},
   "outputs": [],
   "source": [
    "#\n",
    "# Shortcuts for initialization.\n",
    "#\n",
    "# Use the keyword arguments of mol.build() to initialize a molecule\n",
    "#"
   ]
  },
  {
   "cell_type": "code",
   "execution_count": 7,
   "metadata": {},
   "outputs": [
    {
     "data": {
      "text/plain": [
       "<pyscf.gto.mole.Mole at 0x7f4d8fed8f20>"
      ]
     },
     "execution_count": 7,
     "metadata": {},
     "output_type": "execute_result"
    }
   ],
   "source": [
    "mol = gto.Mole()\n",
    "mol.build(\n",
    "    atom = '''O 0 0 0; H  0 1 0; H 0 0 1''',\n",
    "    basis = 'sto-3g',\n",
    ")"
   ]
  },
  {
   "cell_type": "code",
   "execution_count": 8,
   "metadata": {},
   "outputs": [],
   "source": [
    "#\n",
    "# Use shortcut function gto.M or pyscf.M to initialize a molecule\n",
    "#\n",
    "mol = gto.M(\n",
    "    atom = '''O 0 0 0; H  0 1 0; H 0 0 1''',\n",
    "    basis = 'sto-3g',\n",
    ")"
   ]
  },
  {
   "cell_type": "code",
   "execution_count": 9,
   "metadata": {},
   "outputs": [],
   "source": [
    "import pyscf\n",
    "mol = pyscf.M(\n",
    "    atom = '''O 0 0 0; H  0 1 0; H 0 0 1''',\n",
    "    basis = 'sto-3g',\n",
    ")\n"
   ]
  },
  {
   "cell_type": "code",
   "execution_count": 10,
   "metadata": {},
   "outputs": [],
   "source": [
    "#\n",
    "# Other parameters\n",
    "# ================\n",
    "#"
   ]
  },
  {
   "cell_type": "code",
   "execution_count": 11,
   "metadata": {},
   "outputs": [],
   "source": [
    "mol.charge = 0\n",
    "mol.spin = 0 # 2j == nelec_alpha - nelec_beta\n",
    "mol.symmetry = 1  # Allow the program to apply point group symmetry if possible\n",
    "# .unit can be 'bohr', 'ang' to indicate the coordinates unit of the input mol.atom\n",
    "# If a number is assigned to unit, this number will be used as the length of\n",
    "# 1 Bohr (in Angstrom).  Eg you can double the bond length of a system by\n",
    "# setting mol.unit = 0.529*.5.\n",
    "mol.unit = 'Ang'    # (New in version 1.1)"
   ]
  },
  {
   "cell_type": "code",
   "execution_count": 12,
   "metadata": {},
   "outputs": [],
   "source": [
    "# Output\n",
    "# ------\n",
    "# To write output on disk, assign a filename to Mole.output\n",
    "mol.output  \n",
    "# if Mole.output is not given, the default output would be stdout\n"
   ]
  },
  {
   "cell_type": "code",
   "execution_count": 13,
   "metadata": {},
   "outputs": [],
   "source": [
    "# Print level\n",
    "# -----------\n",
    "# Mole.verbose is used to control print level.  The print level can be 0 (quite,\n",
    "# no output) to 9 (very noise).  The default level is 1, which only outputs the\n",
    "# error message, it works almost the same as level 0.  Level 4 (info), or 5 (debug)\n",
    "# are recommended value if some calculation detials are needed.\n",
    "mol.verbose = 4\n",
    "# level 4 hides some details such as CPU timings, the orbital energies during\n",
    "# the SCF iterations."
   ]
  },
  {
   "cell_type": "code",
   "execution_count": 14,
   "metadata": {},
   "outputs": [],
   "source": [
    "# max memory to use\n",
    "# -----------------\n",
    "mol.max_memory = 1000 # in MB\n",
    "# or use evnrionment  PYSCF_MAX_MEMORY  to control the memory usage\n",
    "# (New in PySCF-1.3) eg\n",
    "#    export PYSCF_MAX_MEMORY=10000 # 10 GB\n",
    "#    python 00-input_mole.py\n",
    "\n",
    "# Whether to use Cartesian GTOs (New since version 1.5)\n",
    "# -----------------------------------------------------\n",
    "# default: False\n",
    "mol.cart = True\n"
   ]
  },
  {
   "cell_type": "code",
   "execution_count": 15,
   "metadata": {},
   "outputs": [],
   "source": [
    "from pyscf import gto\n",
    "\n",
    "'''\n",
    "Mute input dumping\n",
    "\n",
    "Input file is dump at the beginning of the output by default. Switch it off\n",
    "by setting dump_input=False. Also the command line arguments can be ignored\n",
    "if parse_arg=False.\n",
    "\n",
    "dump_input and parse_arg are the first two arguments of the Mole.build\n",
    "function. They can be turned off by short notation .build(0, 0). This trick\n",
    "can be found many places in the package.\n",
    "'''\n",
    "\n",
    "mol = gto.M(\n",
    "    verbose = 5,\n",
    "    atom = 'H  0 0 1; H 0 0 2',\n",
    "    dump_input=False,\n",
    "    parse_arg=False,\n",
    ")"
   ]
  },
  {
   "cell_type": "code",
   "execution_count": 16,
   "metadata": {},
   "outputs": [
    {
     "data": {
      "text/plain": [
       "<pyscf.gto.mole.Mole at 0x7f4d491f6f00>"
      ]
     },
     "execution_count": 16,
     "metadata": {},
     "output_type": "execute_result"
    }
   ],
   "source": [
    "mol.build(0, 0)"
   ]
  }
 ],
 "metadata": {
  "kernelspec": {
   "display_name": "qiskit_env",
   "language": "python",
   "name": "python3"
  },
  "language_info": {
   "codemirror_mode": {
    "name": "ipython",
    "version": 3
   },
   "file_extension": ".py",
   "mimetype": "text/x-python",
   "name": "python",
   "nbconvert_exporter": "python",
   "pygments_lexer": "ipython3",
   "version": "3.12.3"
  }
 },
 "nbformat": 4,
 "nbformat_minor": 2
}
